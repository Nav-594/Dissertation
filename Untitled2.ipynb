{
 "cells": [
  {
   "cell_type": "code",
   "execution_count": 1,
   "id": "2e9a3e71",
   "metadata": {},
   "outputs": [
    {
     "name": "stdout",
     "output_type": "stream",
     "text": [
      "(1795, 1294)\n"
     ]
    },
    {
     "data": {
      "text/html": [
       "<div>\n",
       "<style scoped>\n",
       "    .dataframe tbody tr th:only-of-type {\n",
       "        vertical-align: middle;\n",
       "    }\n",
       "\n",
       "    .dataframe tbody tr th {\n",
       "        vertical-align: top;\n",
       "    }\n",
       "\n",
       "    .dataframe thead th {\n",
       "        text-align: right;\n",
       "    }\n",
       "</style>\n",
       "<table border=\"1\" class=\"dataframe\">\n",
       "  <thead>\n",
       "    <tr style=\"text-align: right;\">\n",
       "      <th></th>\n",
       "      <th>Info_PepID</th>\n",
       "      <th>Info_organism_id</th>\n",
       "      <th>Info_protein_id</th>\n",
       "      <th>Info_pos</th>\n",
       "      <th>Info_AA</th>\n",
       "      <th>Info_pubmed_id</th>\n",
       "      <th>Info_epitope_id</th>\n",
       "      <th>Info_host_id</th>\n",
       "      <th>Info_nPos</th>\n",
       "      <th>Info_nNeg</th>\n",
       "      <th>...</th>\n",
       "      <th>feat_esm1b_1270</th>\n",
       "      <th>feat_esm1b_1271</th>\n",
       "      <th>feat_esm1b_1272</th>\n",
       "      <th>feat_esm1b_1273</th>\n",
       "      <th>feat_esm1b_1274</th>\n",
       "      <th>feat_esm1b_1275</th>\n",
       "      <th>feat_esm1b_1276</th>\n",
       "      <th>feat_esm1b_1277</th>\n",
       "      <th>feat_esm1b_1278</th>\n",
       "      <th>feat_esm1b_1279</th>\n",
       "    </tr>\n",
       "  </thead>\n",
       "  <tbody>\n",
       "    <tr>\n",
       "      <th>0</th>\n",
       "      <td>P05877.1:3</td>\n",
       "      <td>11696</td>\n",
       "      <td>P05877.1</td>\n",
       "      <td>306</td>\n",
       "      <td>Y</td>\n",
       "      <td>9289390,10368281,22164215,31263112</td>\n",
       "      <td>79327,163954,604752</td>\n",
       "      <td>9606,10090,9544</td>\n",
       "      <td>1,3,2,18</td>\n",
       "      <td>1,0,0,0</td>\n",
       "      <td>...</td>\n",
       "      <td>0.398270</td>\n",
       "      <td>-0.144087</td>\n",
       "      <td>-0.342332</td>\n",
       "      <td>0.051193</td>\n",
       "      <td>-1.169518</td>\n",
       "      <td>-0.304270</td>\n",
       "      <td>0.258099</td>\n",
       "      <td>-0.184203</td>\n",
       "      <td>-0.768978</td>\n",
       "      <td>0.095764</td>\n",
       "    </tr>\n",
       "    <tr>\n",
       "      <th>1</th>\n",
       "      <td>P05877.1:3</td>\n",
       "      <td>11696</td>\n",
       "      <td>P05877.1</td>\n",
       "      <td>307</td>\n",
       "      <td>N</td>\n",
       "      <td>9289390,10368281,22164215,31263112</td>\n",
       "      <td>79327,163954,604752</td>\n",
       "      <td>9606,10090,9544</td>\n",
       "      <td>1,3,2,18</td>\n",
       "      <td>1,0,0,0</td>\n",
       "      <td>...</td>\n",
       "      <td>0.120641</td>\n",
       "      <td>0.036068</td>\n",
       "      <td>-0.711948</td>\n",
       "      <td>-0.052949</td>\n",
       "      <td>-0.642261</td>\n",
       "      <td>-0.595665</td>\n",
       "      <td>-0.107459</td>\n",
       "      <td>-0.188584</td>\n",
       "      <td>-0.662220</td>\n",
       "      <td>0.006413</td>\n",
       "    </tr>\n",
       "    <tr>\n",
       "      <th>2</th>\n",
       "      <td>P05877.1:3</td>\n",
       "      <td>11696</td>\n",
       "      <td>P05877.1</td>\n",
       "      <td>308</td>\n",
       "      <td>K</td>\n",
       "      <td>9289390,10368281,16731948,20622876,22164215,31...</td>\n",
       "      <td>79327,163954,162763,162762,604752</td>\n",
       "      <td>9606,10090,9544</td>\n",
       "      <td>1,3,3,3,2,18</td>\n",
       "      <td>1,0,0,0,0,0</td>\n",
       "      <td>...</td>\n",
       "      <td>0.600361</td>\n",
       "      <td>0.278707</td>\n",
       "      <td>-0.306851</td>\n",
       "      <td>-0.416138</td>\n",
       "      <td>-0.714807</td>\n",
       "      <td>0.062856</td>\n",
       "      <td>0.357250</td>\n",
       "      <td>-0.051216</td>\n",
       "      <td>-0.043051</td>\n",
       "      <td>-0.218856</td>\n",
       "    </tr>\n",
       "    <tr>\n",
       "      <th>3</th>\n",
       "      <td>P05877.1:3</td>\n",
       "      <td>11696</td>\n",
       "      <td>P05877.1</td>\n",
       "      <td>309</td>\n",
       "      <td>R</td>\n",
       "      <td>9289390,10368281,16731948,19913488,20622876,22...</td>\n",
       "      <td>79327,163954,162763,146524,162762,604752,780125</td>\n",
       "      <td>9606,10090,9544</td>\n",
       "      <td>1,3,3,2,3,2,6,18</td>\n",
       "      <td>1,0,0,0,0,0,0,0</td>\n",
       "      <td>...</td>\n",
       "      <td>0.497170</td>\n",
       "      <td>0.072447</td>\n",
       "      <td>-0.615481</td>\n",
       "      <td>0.075875</td>\n",
       "      <td>-0.763808</td>\n",
       "      <td>-0.348592</td>\n",
       "      <td>0.216759</td>\n",
       "      <td>0.066034</td>\n",
       "      <td>-0.236564</td>\n",
       "      <td>-0.308142</td>\n",
       "    </tr>\n",
       "    <tr>\n",
       "      <th>4</th>\n",
       "      <td>P05877.1:3</td>\n",
       "      <td>11696</td>\n",
       "      <td>P05877.1</td>\n",
       "      <td>310</td>\n",
       "      <td>K</td>\n",
       "      <td>9289390,8327513,10368281,14592768,16731948,199...</td>\n",
       "      <td>79327,149350,163954,162761,162763,146524,16276...</td>\n",
       "      <td>9606,10000252,10090,9544</td>\n",
       "      <td>1,1,3,1,3,2,3,1,2,6,18,1</td>\n",
       "      <td>1,0,0,0,0,0,0,0,0,0,0,0</td>\n",
       "      <td>...</td>\n",
       "      <td>0.465172</td>\n",
       "      <td>0.006267</td>\n",
       "      <td>-0.526020</td>\n",
       "      <td>-0.084951</td>\n",
       "      <td>-0.724663</td>\n",
       "      <td>-0.206482</td>\n",
       "      <td>0.153864</td>\n",
       "      <td>-0.245701</td>\n",
       "      <td>-0.199443</td>\n",
       "      <td>-0.057272</td>\n",
       "    </tr>\n",
       "  </tbody>\n",
       "</table>\n",
       "<p>5 rows × 1294 columns</p>\n",
       "</div>"
      ],
      "text/plain": [
       "   Info_PepID  Info_organism_id Info_protein_id  Info_pos Info_AA  \\\n",
       "0  P05877.1:3             11696        P05877.1       306       Y   \n",
       "1  P05877.1:3             11696        P05877.1       307       N   \n",
       "2  P05877.1:3             11696        P05877.1       308       K   \n",
       "3  P05877.1:3             11696        P05877.1       309       R   \n",
       "4  P05877.1:3             11696        P05877.1       310       K   \n",
       "\n",
       "                                      Info_pubmed_id  \\\n",
       "0                 9289390,10368281,22164215,31263112   \n",
       "1                 9289390,10368281,22164215,31263112   \n",
       "2  9289390,10368281,16731948,20622876,22164215,31...   \n",
       "3  9289390,10368281,16731948,19913488,20622876,22...   \n",
       "4  9289390,8327513,10368281,14592768,16731948,199...   \n",
       "\n",
       "                                     Info_epitope_id  \\\n",
       "0                                79327,163954,604752   \n",
       "1                                79327,163954,604752   \n",
       "2                  79327,163954,162763,162762,604752   \n",
       "3    79327,163954,162763,146524,162762,604752,780125   \n",
       "4  79327,149350,163954,162761,162763,146524,16276...   \n",
       "\n",
       "               Info_host_id                 Info_nPos  \\\n",
       "0           9606,10090,9544                  1,3,2,18   \n",
       "1           9606,10090,9544                  1,3,2,18   \n",
       "2           9606,10090,9544              1,3,3,3,2,18   \n",
       "3           9606,10090,9544          1,3,3,2,3,2,6,18   \n",
       "4  9606,10000252,10090,9544  1,1,3,1,3,2,3,1,2,6,18,1   \n",
       "\n",
       "                 Info_nNeg  ... feat_esm1b_1270 feat_esm1b_1271  \\\n",
       "0                  1,0,0,0  ...        0.398270       -0.144087   \n",
       "1                  1,0,0,0  ...        0.120641        0.036068   \n",
       "2              1,0,0,0,0,0  ...        0.600361        0.278707   \n",
       "3          1,0,0,0,0,0,0,0  ...        0.497170        0.072447   \n",
       "4  1,0,0,0,0,0,0,0,0,0,0,0  ...        0.465172        0.006267   \n",
       "\n",
       "   feat_esm1b_1272  feat_esm1b_1273  feat_esm1b_1274  feat_esm1b_1275  \\\n",
       "0        -0.342332         0.051193        -1.169518        -0.304270   \n",
       "1        -0.711948        -0.052949        -0.642261        -0.595665   \n",
       "2        -0.306851        -0.416138        -0.714807         0.062856   \n",
       "3        -0.615481         0.075875        -0.763808        -0.348592   \n",
       "4        -0.526020        -0.084951        -0.724663        -0.206482   \n",
       "\n",
       "   feat_esm1b_1276  feat_esm1b_1277  feat_esm1b_1278  feat_esm1b_1279  \n",
       "0         0.258099        -0.184203        -0.768978         0.095764  \n",
       "1        -0.107459        -0.188584        -0.662220         0.006413  \n",
       "2         0.357250        -0.051216        -0.043051        -0.218856  \n",
       "3         0.216759         0.066034        -0.236564        -0.308142  \n",
       "4         0.153864        -0.245701        -0.199443        -0.057272  \n",
       "\n",
       "[5 rows x 1294 columns]"
      ]
     },
     "execution_count": 1,
     "metadata": {},
     "output_type": "execute_result"
    }
   ],
   "source": [
    "import pandas as pd\n",
    "#load lentivus data\n",
    "lentivirus = pd.read_csv('lentivirus.csv')\n",
    "#check the size of data\n",
    "print(lentivirus.shape)\n",
    "lentivirus.head()"
   ]
  },
  {
   "cell_type": "code",
   "execution_count": 2,
   "id": "4bda0cf7",
   "metadata": {},
   "outputs": [
    {
     "name": "stdout",
     "output_type": "stream",
     "text": [
      "Total Missing:\n"
     ]
    }
   ],
   "source": [
    "#check for missing values -> results show no missing values\n",
    "print(\"Total Missing:\")\n",
    "for x, y in enumerate(lentivirus.isnull().any()):\n",
    "    if y == True:\n",
    "        name = lentivirus.columns[x]\n",
    "        print(\"   \"+name+\":\", data[name].isnull().sum())\n"
   ]
  },
  {
   "cell_type": "code",
   "execution_count": 3,
   "id": "6fcdc249",
   "metadata": {},
   "outputs": [
    {
     "name": "stdout",
     "output_type": "stream",
     "text": [
      "<class 'pandas.core.frame.DataFrame'>\n",
      "RangeIndex: 1795 entries, 0 to 1794\n",
      "Data columns (total 18 columns):\n",
      " #   Column            Non-Null Count  Dtype  \n",
      "---  ------            --------------  -----  \n",
      " 0   Info_PepID        1795 non-null   object \n",
      " 1   Info_organism_id  1795 non-null   int64  \n",
      " 2   Info_protein_id   1795 non-null   object \n",
      " 3   Info_pos          1795 non-null   int64  \n",
      " 4   Info_AA           1795 non-null   object \n",
      " 5   Info_pubmed_id    1795 non-null   object \n",
      " 6   Info_epitope_id   1795 non-null   object \n",
      " 7   Info_host_id      1795 non-null   object \n",
      " 8   Info_nPos         1795 non-null   object \n",
      " 9   Info_nNeg         1795 non-null   object \n",
      " 10  Info_type         1795 non-null   object \n",
      " 11  Info_window       1795 non-null   object \n",
      " 12  Info_cluster      1795 non-null   int64  \n",
      " 13  Class             1795 non-null   int64  \n",
      " 14  feat_esm1b_0      1795 non-null   float64\n",
      " 15  feat_esm1b_1      1795 non-null   float64\n",
      " 16  feat_esm1b_2      1795 non-null   float64\n",
      " 17  feat_esm1b_3      1795 non-null   float64\n",
      "dtypes: float64(4), int64(4), object(10)\n",
      "memory usage: 252.5+ KB\n"
     ]
    }
   ],
   "source": [
    "lentivirus.iloc[:, 0:18].info(verbose=True, show_counts=True)"
   ]
  },
  {
   "cell_type": "code",
   "execution_count": 4,
   "id": "0f686445",
   "metadata": {},
   "outputs": [
    {
     "name": "stdout",
     "output_type": "stream",
     "text": [
      "Class Balance:\n",
      "   Positive: 1467\n",
      "   Negative: 328\n"
     ]
    },
    {
     "data": {
      "image/png": "[encoded data removed]",
      "text/plain": [
       "<Figure size 432x288 with 1 Axes>"
      ]
     },
     "metadata": {
      "needs_background": "light"
     },
     "output_type": "display_data"
    }
   ],
   "source": [
    "from matplotlib import pyplot as plt\n",
    "#check class balance\n",
    "print(\"Class Balance:\")\n",
    "print(\"   Positive:\",len(lentivirus[lentivirus[\"Class\"]==1]))\n",
    "print(\"   Negative:\",len(lentivirus[lentivirus[\"Class\"]==-1]))   \n",
    "\n",
    "#visualize class imbalance\n",
    "class_col = lentivirus['Class']\n",
    "class_counts = class_col.value_counts()\n",
    "plt.bar(class_counts.index, class_counts.values)\n",
    "\n",
    "plt.xlabel('Class')\n",
    "plt.title('Counts of Class Values')\n",
    "\n",
    "# Show the plot\n",
    "plt.show()"
   ]
  },
  {
   "cell_type": "code",
   "execution_count": 5,
   "id": "49eefc1b",
   "metadata": {},
   "outputs": [
    {
     "name": "stdout",
     "output_type": "stream",
     "text": [
      "Class            -1      1\n",
      "Info_cluster              \n",
      "30             39.0  949.0\n",
      "52            198.0  257.0\n",
      "148            10.0   58.0\n",
      "160            51.0   25.0\n",
      "208             NaN   58.0\n",
      "250            30.0   83.0\n",
      "276             NaN    8.0\n",
      "282             NaN   12.0\n",
      "346             NaN    9.0\n",
      "358             NaN    8.0\n"
     ]
    },
    {
     "data": {
      "image/png": "[encoded data removed]",
      "text/plain": [
       "<Figure size 432x288 with 1 Axes>"
      ]
     },
     "metadata": {
      "needs_background": "light"
     },
     "output_type": "display_data"
    }
   ],
   "source": [
    "#check + visualize clusters\n",
    "lentivirus_clusters = lentivirus.copy(deep=True)\n",
    "\n",
    "#visualize clusters\n",
    "counts = lentivirus_clusters.groupby(['Info_cluster', 'Class']).size().unstack()\n",
    "counts.plot(kind='bar', stacked=True)\n",
    "print(counts)\n",
    "plt.title('Positive and Negative Samples in Each Cluster')\n",
    "plt.xlabel('Cluster')\n",
    "plt.ylabel('Count')\n",
    "plt.show()"
   ]
  },
  {
   "cell_type": "code",
   "execution_count": 6,
   "id": "7189888d",
   "metadata": {},
   "outputs": [
    {
     "data": {
      "text/html": [
       "<div>\n",
       "<style scoped>\n",
       "    .dataframe tbody tr th:only-of-type {\n",
       "        vertical-align: middle;\n",
       "    }\n",
       "\n",
       "    .dataframe tbody tr th {\n",
       "        vertical-align: top;\n",
       "    }\n",
       "\n",
       "    .dataframe thead th {\n",
       "        text-align: right;\n",
       "    }\n",
       "</style>\n",
       "<table border=\"1\" class=\"dataframe\">\n",
       "  <thead>\n",
       "    <tr style=\"text-align: right;\">\n",
       "      <th></th>\n",
       "      <th>Info_PepID</th>\n",
       "      <th>Info_organism_id</th>\n",
       "      <th>Info_protein_id</th>\n",
       "      <th>Info_pos</th>\n",
       "      <th>Info_AA</th>\n",
       "      <th>Info_pubmed_id</th>\n",
       "      <th>Info_epitope_id</th>\n",
       "      <th>Info_host_id</th>\n",
       "      <th>Info_nPos</th>\n",
       "      <th>Info_nNeg</th>\n",
       "      <th>...</th>\n",
       "      <th>feat_esm1b_1270</th>\n",
       "      <th>feat_esm1b_1271</th>\n",
       "      <th>feat_esm1b_1272</th>\n",
       "      <th>feat_esm1b_1273</th>\n",
       "      <th>feat_esm1b_1274</th>\n",
       "      <th>feat_esm1b_1275</th>\n",
       "      <th>feat_esm1b_1276</th>\n",
       "      <th>feat_esm1b_1277</th>\n",
       "      <th>feat_esm1b_1278</th>\n",
       "      <th>feat_esm1b_1279</th>\n",
       "    </tr>\n",
       "  </thead>\n",
       "  <tbody>\n",
       "    <tr>\n",
       "      <th>0</th>\n",
       "      <td>AAD03223.1:2</td>\n",
       "      <td>11676</td>\n",
       "      <td>AAD03223.1</td>\n",
       "      <td>572</td>\n",
       "      <td>G</td>\n",
       "      <td>10491006</td>\n",
       "      <td>113000</td>\n",
       "      <td>10000206,9606</td>\n",
       "      <td>1</td>\n",
       "      <td>1</td>\n",
       "      <td>...</td>\n",
       "      <td>1.079122</td>\n",
       "      <td>-0.612150</td>\n",
       "      <td>-0.549685</td>\n",
       "      <td>0.208080</td>\n",
       "      <td>-0.057606</td>\n",
       "      <td>0.610071</td>\n",
       "      <td>-0.171303</td>\n",
       "      <td>0.320035</td>\n",
       "      <td>-0.551130</td>\n",
       "      <td>-0.536661</td>\n",
       "    </tr>\n",
       "    <tr>\n",
       "      <th>1</th>\n",
       "      <td>AAD03223.1:2</td>\n",
       "      <td>11676</td>\n",
       "      <td>AAD03223.1</td>\n",
       "      <td>573</td>\n",
       "      <td>I</td>\n",
       "      <td>10491006</td>\n",
       "      <td>113000</td>\n",
       "      <td>10000206,9606</td>\n",
       "      <td>1</td>\n",
       "      <td>1</td>\n",
       "      <td>...</td>\n",
       "      <td>0.556093</td>\n",
       "      <td>-0.041111</td>\n",
       "      <td>-0.240461</td>\n",
       "      <td>-0.274639</td>\n",
       "      <td>0.393833</td>\n",
       "      <td>0.065033</td>\n",
       "      <td>0.138008</td>\n",
       "      <td>-0.399381</td>\n",
       "      <td>0.104057</td>\n",
       "      <td>0.339393</td>\n",
       "    </tr>\n",
       "    <tr>\n",
       "      <th>2</th>\n",
       "      <td>AAD03223.1:2</td>\n",
       "      <td>11676</td>\n",
       "      <td>AAD03223.1</td>\n",
       "      <td>574</td>\n",
       "      <td>K</td>\n",
       "      <td>10491006</td>\n",
       "      <td>113000</td>\n",
       "      <td>10000206,9606</td>\n",
       "      <td>1</td>\n",
       "      <td>1</td>\n",
       "      <td>...</td>\n",
       "      <td>0.480909</td>\n",
       "      <td>-0.389059</td>\n",
       "      <td>-0.267789</td>\n",
       "      <td>-0.112657</td>\n",
       "      <td>-0.305016</td>\n",
       "      <td>0.086458</td>\n",
       "      <td>-0.042881</td>\n",
       "      <td>-0.092988</td>\n",
       "      <td>0.026523</td>\n",
       "      <td>-0.043139</td>\n",
       "    </tr>\n",
       "    <tr>\n",
       "      <th>3</th>\n",
       "      <td>AAD03223.1:2</td>\n",
       "      <td>11676</td>\n",
       "      <td>AAD03223.1</td>\n",
       "      <td>575</td>\n",
       "      <td>Q</td>\n",
       "      <td>10491006</td>\n",
       "      <td>113000</td>\n",
       "      <td>10000206,9606</td>\n",
       "      <td>1</td>\n",
       "      <td>1</td>\n",
       "      <td>...</td>\n",
       "      <td>0.809479</td>\n",
       "      <td>0.041821</td>\n",
       "      <td>-0.963209</td>\n",
       "      <td>0.395983</td>\n",
       "      <td>-0.455415</td>\n",
       "      <td>-0.127150</td>\n",
       "      <td>-0.124370</td>\n",
       "      <td>0.096872</td>\n",
       "      <td>-0.563273</td>\n",
       "      <td>-0.037554</td>\n",
       "    </tr>\n",
       "    <tr>\n",
       "      <th>4</th>\n",
       "      <td>AAD03223.1:2</td>\n",
       "      <td>11676</td>\n",
       "      <td>AAD03223.1</td>\n",
       "      <td>576</td>\n",
       "      <td>L</td>\n",
       "      <td>10491006</td>\n",
       "      <td>113000</td>\n",
       "      <td>10000206,9606</td>\n",
       "      <td>1</td>\n",
       "      <td>1</td>\n",
       "      <td>...</td>\n",
       "      <td>0.478822</td>\n",
       "      <td>-0.102569</td>\n",
       "      <td>-0.481708</td>\n",
       "      <td>-0.494436</td>\n",
       "      <td>0.337799</td>\n",
       "      <td>0.239448</td>\n",
       "      <td>-0.218445</td>\n",
       "      <td>0.064970</td>\n",
       "      <td>-0.195199</td>\n",
       "      <td>-0.013512</td>\n",
       "    </tr>\n",
       "    <tr>\n",
       "      <th>...</th>\n",
       "      <td>...</td>\n",
       "      <td>...</td>\n",
       "      <td>...</td>\n",
       "      <td>...</td>\n",
       "      <td>...</td>\n",
       "      <td>...</td>\n",
       "      <td>...</td>\n",
       "      <td>...</td>\n",
       "      <td>...</td>\n",
       "      <td>...</td>\n",
       "      <td>...</td>\n",
       "      <td>...</td>\n",
       "      <td>...</td>\n",
       "      <td>...</td>\n",
       "      <td>...</td>\n",
       "      <td>...</td>\n",
       "      <td>...</td>\n",
       "      <td>...</td>\n",
       "      <td>...</td>\n",
       "      <td>...</td>\n",
       "      <td>...</td>\n",
       "    </tr>\n",
       "    <tr>\n",
       "      <th>720</th>\n",
       "      <td>AAT99511.1:1</td>\n",
       "      <td>11709</td>\n",
       "      <td>AAT99511.1</td>\n",
       "      <td>4</td>\n",
       "      <td>S</td>\n",
       "      <td>15721587</td>\n",
       "      <td>187181</td>\n",
       "      <td>10000000</td>\n",
       "      <td>1</td>\n",
       "      <td>0</td>\n",
       "      <td>...</td>\n",
       "      <td>0.507252</td>\n",
       "      <td>-0.042336</td>\n",
       "      <td>-0.417229</td>\n",
       "      <td>0.083156</td>\n",
       "      <td>-0.757533</td>\n",
       "      <td>-0.188812</td>\n",
       "      <td>0.396794</td>\n",
       "      <td>-0.096665</td>\n",
       "      <td>-0.181638</td>\n",
       "      <td>-0.270908</td>\n",
       "    </tr>\n",
       "    <tr>\n",
       "      <th>721</th>\n",
       "      <td>AAT99511.1:1</td>\n",
       "      <td>11709</td>\n",
       "      <td>AAT99511.1</td>\n",
       "      <td>5</td>\n",
       "      <td>L</td>\n",
       "      <td>15721587</td>\n",
       "      <td>187181</td>\n",
       "      <td>10000000</td>\n",
       "      <td>1</td>\n",
       "      <td>0</td>\n",
       "      <td>...</td>\n",
       "      <td>0.458295</td>\n",
       "      <td>0.193224</td>\n",
       "      <td>-0.706230</td>\n",
       "      <td>-0.002260</td>\n",
       "      <td>-0.214022</td>\n",
       "      <td>-0.148091</td>\n",
       "      <td>0.383425</td>\n",
       "      <td>-0.152096</td>\n",
       "      <td>-0.177901</td>\n",
       "      <td>0.094473</td>\n",
       "    </tr>\n",
       "    <tr>\n",
       "      <th>722</th>\n",
       "      <td>AAT99511.1:1</td>\n",
       "      <td>11709</td>\n",
       "      <td>AAT99511.1</td>\n",
       "      <td>6</td>\n",
       "      <td>W</td>\n",
       "      <td>15721587</td>\n",
       "      <td>187181</td>\n",
       "      <td>10000000</td>\n",
       "      <td>1</td>\n",
       "      <td>0</td>\n",
       "      <td>...</td>\n",
       "      <td>0.199379</td>\n",
       "      <td>-0.070026</td>\n",
       "      <td>-0.501007</td>\n",
       "      <td>0.198161</td>\n",
       "      <td>-0.296369</td>\n",
       "      <td>-0.371272</td>\n",
       "      <td>0.124128</td>\n",
       "      <td>-0.133284</td>\n",
       "      <td>-0.145541</td>\n",
       "      <td>0.217357</td>\n",
       "    </tr>\n",
       "    <tr>\n",
       "      <th>723</th>\n",
       "      <td>AAT99511.1:1</td>\n",
       "      <td>11709</td>\n",
       "      <td>AAT99511.1</td>\n",
       "      <td>7</td>\n",
       "      <td>K</td>\n",
       "      <td>15721587</td>\n",
       "      <td>187181</td>\n",
       "      <td>10000000</td>\n",
       "      <td>1</td>\n",
       "      <td>0</td>\n",
       "      <td>...</td>\n",
       "      <td>0.429941</td>\n",
       "      <td>-0.262122</td>\n",
       "      <td>-0.565524</td>\n",
       "      <td>0.013410</td>\n",
       "      <td>-0.451900</td>\n",
       "      <td>-0.214582</td>\n",
       "      <td>0.231354</td>\n",
       "      <td>-0.192361</td>\n",
       "      <td>-0.261384</td>\n",
       "      <td>0.265271</td>\n",
       "    </tr>\n",
       "    <tr>\n",
       "      <th>724</th>\n",
       "      <td>AAT99511.1:1</td>\n",
       "      <td>11709</td>\n",
       "      <td>AAT99511.1</td>\n",
       "      <td>8</td>\n",
       "      <td>R</td>\n",
       "      <td>15721587</td>\n",
       "      <td>187181</td>\n",
       "      <td>10000000</td>\n",
       "      <td>1</td>\n",
       "      <td>0</td>\n",
       "      <td>...</td>\n",
       "      <td>0.441835</td>\n",
       "      <td>0.079490</td>\n",
       "      <td>-0.604635</td>\n",
       "      <td>-0.036486</td>\n",
       "      <td>-0.159684</td>\n",
       "      <td>-0.067647</td>\n",
       "      <td>0.012801</td>\n",
       "      <td>0.251973</td>\n",
       "      <td>-0.253497</td>\n",
       "      <td>-0.033212</td>\n",
       "    </tr>\n",
       "  </tbody>\n",
       "</table>\n",
       "<p>725 rows × 1294 columns</p>\n",
       "</div>"
      ],
      "text/plain": [
       "       Info_PepID  Info_organism_id Info_protein_id  Info_pos Info_AA  \\\n",
       "0    AAD03223.1:2             11676      AAD03223.1       572       G   \n",
       "1    AAD03223.1:2             11676      AAD03223.1       573       I   \n",
       "2    AAD03223.1:2             11676      AAD03223.1       574       K   \n",
       "3    AAD03223.1:2             11676      AAD03223.1       575       Q   \n",
       "4    AAD03223.1:2             11676      AAD03223.1       576       L   \n",
       "..            ...               ...             ...       ...     ...   \n",
       "720  AAT99511.1:1             11709      AAT99511.1         4       S   \n",
       "721  AAT99511.1:1             11709      AAT99511.1         5       L   \n",
       "722  AAT99511.1:1             11709      AAT99511.1         6       W   \n",
       "723  AAT99511.1:1             11709      AAT99511.1         7       K   \n",
       "724  AAT99511.1:1             11709      AAT99511.1         8       R   \n",
       "\n",
       "    Info_pubmed_id Info_epitope_id   Info_host_id Info_nPos Info_nNeg  ...  \\\n",
       "0         10491006          113000  10000206,9606         1         1  ...   \n",
       "1         10491006          113000  10000206,9606         1         1  ...   \n",
       "2         10491006          113000  10000206,9606         1         1  ...   \n",
       "3         10491006          113000  10000206,9606         1         1  ...   \n",
       "4         10491006          113000  10000206,9606         1         1  ...   \n",
       "..             ...             ...            ...       ...       ...  ...   \n",
       "720       15721587          187181       10000000         1         0  ...   \n",
       "721       15721587          187181       10000000         1         0  ...   \n",
       "722       15721587          187181       10000000         1         0  ...   \n",
       "723       15721587          187181       10000000         1         0  ...   \n",
       "724       15721587          187181       10000000         1         0  ...   \n",
       "\n",
       "    feat_esm1b_1270 feat_esm1b_1271  feat_esm1b_1272  feat_esm1b_1273  \\\n",
       "0          1.079122       -0.612150        -0.549685         0.208080   \n",
       "1          0.556093       -0.041111        -0.240461        -0.274639   \n",
       "2          0.480909       -0.389059        -0.267789        -0.112657   \n",
       "3          0.809479        0.041821        -0.963209         0.395983   \n",
       "4          0.478822       -0.102569        -0.481708        -0.494436   \n",
       "..              ...             ...              ...              ...   \n",
       "720        0.507252       -0.042336        -0.417229         0.083156   \n",
       "721        0.458295        0.193224        -0.706230        -0.002260   \n",
       "722        0.199379       -0.070026        -0.501007         0.198161   \n",
       "723        0.429941       -0.262122        -0.565524         0.013410   \n",
       "724        0.441835        0.079490        -0.604635        -0.036486   \n",
       "\n",
       "     feat_esm1b_1274  feat_esm1b_1275  feat_esm1b_1276  feat_esm1b_1277  \\\n",
       "0          -0.057606         0.610071        -0.171303         0.320035   \n",
       "1           0.393833         0.065033         0.138008        -0.399381   \n",
       "2          -0.305016         0.086458        -0.042881        -0.092988   \n",
       "3          -0.455415        -0.127150        -0.124370         0.096872   \n",
       "4           0.337799         0.239448        -0.218445         0.064970   \n",
       "..               ...              ...              ...              ...   \n",
       "720        -0.757533        -0.188812         0.396794        -0.096665   \n",
       "721        -0.214022        -0.148091         0.383425        -0.152096   \n",
       "722        -0.296369        -0.371272         0.124128        -0.133284   \n",
       "723        -0.451900        -0.214582         0.231354        -0.192361   \n",
       "724        -0.159684        -0.067647         0.012801         0.251973   \n",
       "\n",
       "     feat_esm1b_1278  feat_esm1b_1279  \n",
       "0          -0.551130        -0.536661  \n",
       "1           0.104057         0.339393  \n",
       "2           0.026523        -0.043139  \n",
       "3          -0.563273        -0.037554  \n",
       "4          -0.195199        -0.013512  \n",
       "..               ...              ...  \n",
       "720        -0.181638        -0.270908  \n",
       "721        -0.177901         0.094473  \n",
       "722        -0.145541         0.217357  \n",
       "723        -0.261384         0.265271  \n",
       "724        -0.253497        -0.033212  \n",
       "\n",
       "[725 rows x 1294 columns]"
      ]
     },
     "execution_count": 6,
     "metadata": {},
     "output_type": "execute_result"
    }
   ],
   "source": [
    "import numpy as np\n",
    "#balance class for each cluster which has class imbalance\n",
    "clusters_to_undersample = [30,52,148,250]\n",
    "undersampled_dataset = pd.DataFrame()\n",
    "\n",
    "#loop over each cluster and randomly remove majority class until 50:50\n",
    "#create new dataset with undersampled data\n",
    "for cluster in clusters_to_undersample:\n",
    "    cluster_data = lentivirus_clusters[lentivirus_clusters['Info_cluster'] == cluster]\n",
    "    minority_class_len = int(cluster_data['Class'].value_counts()[-1])\n",
    "    majority_class_len = cluster_data['Class'].value_counts()[1]\n",
    "    \n",
    "    majority_class_idx = cluster_data[cluster_data['Class'] == 1].index\n",
    "    minority_class_idx = cluster_data[cluster_data['Class'] == -1].index\n",
    "    \n",
    "    random_majority_idx = np.random.choice(majority_class_idx, minority_class_len, replace=False)\n",
    "    \n",
    "    undersampled_idx = np.concatenate([minority_class_idx, random_majority_idx])\n",
    "    undersampled_cluster = cluster_data.loc[undersampled_idx].copy()\n",
    "    \n",
    "    undersampled_dataset = pd.concat([undersampled_dataset, undersampled_cluster])\n",
    "\n",
    "#add the other clusters back to undersampled_dataset\n",
    "clusters_to_add = [160,208,276,282,346,358]\n",
    "for cluster in clusters_to_add:\n",
    "    c= lentivirus_clusters[lentivirus_clusters['Info_cluster'] == cluster]\n",
    "    idx = lentivirus_clusters[lentivirus_clusters['Info_cluster'] == cluster].index\n",
    "    add_cluster = c.loc[idx].copy()\n",
    "    undersampled_dataset = pd.concat([undersampled_dataset,add_cluster])\n",
    "    \n",
    "undersampled_dataset.reset_index(drop=True, inplace=True)\n",
    "undersampled_dataset"
   ]
  },
  {
   "cell_type": "code",
   "execution_count": 7,
   "id": "a4ffefd7",
   "metadata": {},
   "outputs": [
    {
     "name": "stdout",
     "output_type": "stream",
     "text": [
      "Class            -1      1\n",
      "Info_cluster              \n",
      "30             39.0   39.0\n",
      "52            198.0  198.0\n",
      "148            10.0   10.0\n",
      "160            51.0   25.0\n",
      "208             NaN   58.0\n",
      "250            30.0   30.0\n",
      "276             NaN    8.0\n",
      "282             NaN   12.0\n",
      "346             NaN    9.0\n",
      "358             NaN    8.0\n"
     ]
    },
    {
     "data": {
      "image/png": "[encoded data removed]",
      "text/plain": [
       "<Figure size 432x288 with 1 Axes>"
      ]
     },
     "metadata": {
      "needs_background": "light"
     },
     "output_type": "display_data"
    }
   ],
   "source": [
    "#check class balance of new dataset with balanced classes + visualize\n",
    "counts = undersampled_dataset.groupby(['Info_cluster', 'Class']).size().unstack()\n",
    "counts.plot(kind='bar', stacked=True)\n",
    "print(counts)\n",
    "plt.title('Positive and Negative Samples in Each Cluster')\n",
    "plt.xlabel('Cluster')\n",
    "plt.ylabel('Count')\n",
    "plt.show()"
   ]
  },
  {
   "cell_type": "code",
   "execution_count": 8,
   "id": "25c90643",
   "metadata": {},
   "outputs": [],
   "source": [
    "new_dataset = undersampled_dataset.reset_index(drop=True)\n",
    "from sklearn.model_selection import GroupKFold\n",
    "#split data into 80-20 split\n",
    "X = new_dataset.drop('Class', axis=1)\n",
    "y = new_dataset['Class']\n",
    "groups = new_dataset['Info_cluster']\n",
    "\n",
    "gkfold = GroupKFold(n_splits=3)\n",
    "\n",
    "for train_idx, test_idx in gkfold.split(X, y, groups):\n",
    "    X_train, y_train= X.loc[train_idx], y.loc[train_idx]\n",
    "    X_test, y_test= X.loc[test_idx], y.loc[test_idx]\n"
   ]
  },
  {
   "cell_type": "code",
   "execution_count": 9,
   "id": "f846cd3a",
   "metadata": {},
   "outputs": [
    {
     "data": {
      "text/plain": [
       "(560, 1293)"
      ]
     },
     "execution_count": 9,
     "metadata": {},
     "output_type": "execute_result"
    }
   ],
   "source": [
    "#further split the data 80-20 to get holdout set\n",
    "X2 = X_train.reset_index(drop=True)\n",
    "y2 = y_train.reset_index(drop=True)\n",
    "groups2 = X_train['Info_cluster']\n",
    "\n",
    "gkfold = GroupKFold(n_splits=2)\n",
    "\n",
    "for train_idx, test_idx in gkfold.split(X2, y2, groups2):\n",
    "    X2_train, y2_train= X2.loc[train_idx], y2.loc[train_idx]\n",
    "    X_val, y_val= X.loc[test_idx], y.loc[test_idx]\n",
    "\n",
    "X2.shape"
   ]
  },
  {
   "cell_type": "code",
   "execution_count": 10,
   "id": "7585e00c",
   "metadata": {},
   "outputs": [
    {
     "name": "stdout",
     "output_type": "stream",
     "text": [
      "(396, 1293)\n",
      "(164, 1293)\n",
      "(165, 1293)\n"
     ]
    }
   ],
   "source": [
    "#Size = 698\n",
    "#Train = 57\n",
    "#Val = 21.5\n",
    "#Test = 21.5\n",
    "print(X2_train.shape)\n",
    "print(X_val.shape)\n",
    "print(X_test.shape)"
   ]
  },
  {
   "cell_type": "code",
   "execution_count": 11,
   "id": "dbb14c2b",
   "metadata": {},
   "outputs": [
    {
     "name": "stdout",
     "output_type": "stream",
     "text": [
      "[52]\n",
      "[ 30 148 250 160]\n",
      "[250 160 276 282 346]\n"
     ]
    }
   ],
   "source": [
    "#Clusters persent in each train,test,validation splits\n",
    "print(X2_train['Info_cluster'].unique())\n",
    "print(X_val['Info_cluster'].unique())\n",
    "print(X_test['Info_cluster'].unique())"
   ]
  },
  {
   "cell_type": "code",
   "execution_count": 12,
   "id": "647540b4",
   "metadata": {},
   "outputs": [],
   "source": [
    "#created split 0 dataset (EDA+Modelling), split 1 (hyperparameter tuning), split 2 (hold out seT)\n",
    "X2_train['Class'] = y2_train\n",
    "data = X2_train.copy(deep=True)\n",
    "\n",
    "X_test['Class'] = y_test\n",
    "holdout = X_test.copy(deep=True)\n",
    "\n",
    "X_val['Class'] = y_val\n",
    "tuning = X_val.copy(deep=True)"
   ]
  },
  {
   "cell_type": "code",
   "execution_count": 13,
   "id": "0ef299aa",
   "metadata": {},
   "outputs": [
    {
     "data": {
      "image/png": "[encoded data removed]",
      "text/plain": [
       "<Figure size 432x288 with 1 Axes>"
      ]
     },
     "metadata": {
      "needs_background": "light"
     },
     "output_type": "display_data"
    },
    {
     "data": {
      "image/png": "[encoded data removed]",
      "text/plain": [
       "<Figure size 432x288 with 1 Axes>"
      ]
     },
     "metadata": {
      "needs_background": "light"
     },
     "output_type": "display_data"
    },
    {
     "data": {
      "image/png": "[encoded data removed]",
      "text/plain": [
       "<Figure size 432x288 with 1 Axes>"
      ]
     },
     "metadata": {
      "needs_background": "light"
     },
     "output_type": "display_data"
    }
   ],
   "source": [
    "#import seaborn as sns\n",
    "#print(\"Class Balance:\")\n",
    "#print(\"   Positive:\",len(train_data[train_data[\"Class\"]==1]))\n",
    "#print(\"   Negative:\",len(train_data[train_data[\"Class\"]==-1]))   \n",
    "#sns.countplot(x=train_data['Class'])\n",
    "# Define a function to plot the class imbalance\n",
    "def plot_class_imbalance(split):\n",
    "    class_counts = split['Class'].value_counts()\n",
    "    n_pos = class_counts[1]\n",
    "    n_neg = class_counts[-1]\n",
    "    plt.bar(['Positive', 'Negative'], [n_pos, n_neg])\n",
    "    plt.title(f'Split {i}: Positive = {n_pos}, Negative = {n_neg}')\n",
    "    plt.show()\n",
    "\n",
    "# Loop over the three splits and plot the class imbalance in each split\n",
    "for i, split in enumerate([data, holdout, tuning]):\n",
    "    plot_class_imbalance(split)"
   ]
  },
  {
   "cell_type": "code",
   "execution_count": 14,
   "id": "c631f7f9",
   "metadata": {},
   "outputs": [
    {
     "name": "stdout",
     "output_type": "stream",
     "text": [
      "Index([], dtype='object')\n",
      "Index(['feat_esm1b_877'], dtype='object')\n"
     ]
    }
   ],
   "source": [
    "#check skewness of features\n",
    "features=data.iloc[:, 13:-1]\n",
    "skewness = features.skew()\n",
    "skewed_columns_greater = skewness[skewness > 1.5].index\n",
    "skewed_columns_less = skewness[skewness < -1.5].index\n",
    "\n",
    "print(skewed_columns_greater)\n",
    "print(skewed_columns_less)"
   ]
  },
  {
   "cell_type": "code",
   "execution_count": 15,
   "id": "faa91e08",
   "metadata": {},
   "outputs": [
    {
     "name": "stdout",
     "output_type": "stream",
     "text": [
      "-1.6372522914444236\n"
     ]
    },
    {
     "data": {
      "text/plain": [
       "<AxesSubplot:ylabel='Count'>"
      ]
     },
     "execution_count": 15,
     "metadata": {},
     "output_type": "execute_result"
    },
    {
     "data": {
      "image/png": "[encoded data removed]",
      "text/plain": [
       "<Figure size 432x288 with 1 Axes>"
      ]
     },
     "metadata": {
      "needs_background": "light"
     },
     "output_type": "display_data"
    }
   ],
   "source": [
    "import seaborn as sns\n",
    "#visualise feat_esm1b_877\n",
    "skew_df = data[skewed_columns_less]\n",
    "print(features['feat_esm1b_877'].skew())\n",
    "sns.histplot(data=skew_df)"
   ]
  },
  {
   "cell_type": "code",
   "execution_count": 16,
   "id": "0203669f",
   "metadata": {},
   "outputs": [
    {
     "data": {
      "image/png": "[encoded data removed]",
      "text/plain": [
       "<Figure size 432x288 with 1 Axes>"
      ]
     },
     "metadata": {
      "needs_background": "light"
     },
     "output_type": "display_data"
    },
    {
     "name": "stdout",
     "output_type": "stream",
     "text": [
      "[]\n"
     ]
    }
   ],
   "source": [
    "#check for outliers -> TSNE\n",
    "from sklearn.preprocessing import StandardScaler\n",
    "from sklearn.manifold import TSNE\n",
    "\n",
    "X = data.iloc[:, 13:-1].values\n",
    "scaler = StandardScaler()\n",
    "X_scaled = scaler.fit_transform(X)\n",
    "\n",
    "tsne = TSNE(n_components=2, perplexity=30, random_state=42)\n",
    "X_tsne = tsne.fit_transform(X_scaled)\n",
    "\n",
    "#color for class\n",
    "y = data['Class'].values\n",
    "colors = ['red' if label == -1 else 'blue' for label in y]\n",
    "\n",
    "plt.scatter(X_tsne[:, 0], X_tsne[:, 1], c=colors)\n",
    "plt.title('t-SNE Visualization')\n",
    "plt.xlabel('Dimension 1')\n",
    "plt.ylabel('Dimension 2')\n",
    "plt.show()\n",
    "\n",
    "## 1 outlier in the left\n",
    "outliers = X_tsne[y == -1.5]\n",
    "print(outliers)"
   ]
  },
  {
   "cell_type": "code",
   "execution_count": 17,
   "id": "53a6daf3",
   "metadata": {},
   "outputs": [
    {
     "name": "stdout",
     "output_type": "stream",
     "text": [
      "Total Missing:\n"
     ]
    }
   ],
   "source": [
    "#check missing values\n",
    "print(\"Total Missing:\")\n",
    "for x, y in enumerate(data.isnull().any()):\n",
    "    if y == True:\n",
    "        name = lentivirus.columns[x]\n",
    "        print(\"   \"+name+\":\", data[name].isnull().sum())"
   ]
  },
  {
   "cell_type": "code",
   "execution_count": 18,
   "id": "fe277dea",
   "metadata": {},
   "outputs": [],
   "source": [
    "# MinMaxScaler for scaling data\n",
    "#from sklearn.preprocessing import MinMaxScaler\n",
    "#scaler=MinMaxScaler()\n",
    "#scaler.fit()"
   ]
  },
  {
   "cell_type": "code",
   "execution_count": null,
   "id": "6967eb10",
   "metadata": {},
   "outputs": [],
   "source": []
  }
 ],
 "metadata": {
  "kernelspec": {
   "display_name": "Python 3 (ipykernel)",
   "language": "python",
   "name": "python3"
  },
  "language_info": {
   "codemirror_mode": {
    "name": "ipython",
    "version": 3
   },
   "file_extension": ".py",
   "mimetype": "text/x-python",
   "name": "python",
   "nbconvert_exporter": "python",
   "pygments_lexer": "ipython3",
   "version": "3.9.7"
  }
 },
 "nbformat": 4,
 "nbformat_minor": 5
}
